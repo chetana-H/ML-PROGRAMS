{
  "nbformat": 4,
  "nbformat_minor": 0,
  "metadata": {
    "colab": {
      "name": "ml programs 2",
      "provenance": [],
      "authorship_tag": "ABX9TyOzFBYAUxqvjsdMmXBJyVmJ",
      "include_colab_link": true
    },
    "kernelspec": {
      "name": "python3",
      "display_name": "Python 3"
    }
  },
  "cells": [
    {
      "cell_type": "markdown",
      "metadata": {
        "id": "view-in-github",
        "colab_type": "text"
      },
      "source": [
        "<a href=\"https://colab.research.google.com/github/chetana-H/ML-PROGRAMS/blob/master/ml_programs_2.ipynb\" target=\"_parent\"><img src=\"https://colab.research.google.com/assets/colab-badge.svg\" alt=\"Open In Colab\"/></a>"
      ]
    },
    {
      "cell_type": "markdown",
      "metadata": {
        "id": "6kIsCLIYh3Eq",
        "colab_type": "text"
      },
      "source": [
        "# **1.python program to count number of occurences of a word in the sentence**\n"
      ]
    },
    {
      "cell_type": "code",
      "metadata": {
        "id": "ggBFB04ph81q",
        "colab_type": "code",
        "colab": {
          "base_uri": "https://localhost:8080/",
          "height": 52
        },
        "outputId": "32f57f9e-926b-4146-cbe8-7a78ef0dc142"
      },
      "source": [
        "a=str(input(\"Enter the sentence: \"))\n",
        "b=dict()\n",
        "c=a.split()\n",
        "for i in c:\n",
        "    if i in b:\n",
        "        b[i]+=1\n",
        "    else:\n",
        "        b[i]=1\n",
        "print(b)"
      ],
      "execution_count": 1,
      "outputs": [
        {
          "output_type": "stream",
          "text": [
            "Enter the sentence: i love machine learning\n",
            "{'i': 1, 'love': 1, 'machine': 1, 'learning': 1}\n"
          ],
          "name": "stdout"
        }
      ]
    },
    {
      "cell_type": "markdown",
      "metadata": {
        "id": "vW8sywOqiCmc",
        "colab_type": "text"
      },
      "source": [
        "# **2.python program to remove duplicate elements from list**"
      ]
    },
    {
      "cell_type": "code",
      "metadata": {
        "id": "Fi7HUQ_OhS_i",
        "colab_type": "code",
        "colab": {}
      },
      "source": [
        "n=int(input(\"Enter the size of list \"))\n",
        "a=[]\n",
        "for i in range(n):\n",
        "    a.append(input())\n",
        "b=set(a)\n",
        "print(list(b))"
      ],
      "execution_count": null,
      "outputs": []
    },
    {
      "cell_type": "markdown",
      "metadata": {
        "id": "VWb0DQ2zicbE",
        "colab_type": "text"
      },
      "source": [
        "# **3.python program to count number of elements in a list within specified range**"
      ]
    },
    {
      "cell_type": "code",
      "metadata": {
        "id": "OWQ2dX2sihHt",
        "colab_type": "code",
        "colab": {
          "base_uri": "https://localhost:8080/",
          "height": 156
        },
        "outputId": "dd482097-e061-407d-e39f-5052879f6153"
      },
      "source": [
        "n=int(input(\"Enter the size of list\"))\n",
        "a=[]\n",
        "b=[]\n",
        "for i in range(n):\n",
        "    a.append(input())\n",
        "x=int(input(\"Enter the 1st range\"))\n",
        "y=int(input(\"Enter the 2nd range\"))\n",
        "for i in range(x,y+1):\n",
        "    b.append(a[i])\n",
        "print(b)"
      ],
      "execution_count": 7,
      "outputs": [
        {
          "output_type": "stream",
          "text": [
            "Enter the size of list4\n",
            "2\n",
            "3\n",
            "4\n",
            "1\n",
            "Enter the 1st range1\n",
            "Enter the 2nd range2\n",
            "['3', '4']\n"
          ],
          "name": "stdout"
        }
      ]
    },
    {
      "cell_type": "markdown",
      "metadata": {
        "id": "-nUl3TQYipxX",
        "colab_type": "text"
      },
      "source": [
        "# **4.python program to merge two dictionaries**"
      ]
    },
    {
      "cell_type": "code",
      "metadata": {
        "id": "wGRB2dg1iqPm",
        "colab_type": "code",
        "colab": {
          "base_uri": "https://localhost:8080/",
          "height": 35
        },
        "outputId": "6e093989-a3ed-4c53-a737-96215d88fb98"
      },
      "source": [
        "a={'a':1,'b':2}\n",
        "b={'c':3,'d':4}\n",
        "a.update(b)\n",
        "print(a)"
      ],
      "execution_count": 6,
      "outputs": [
        {
          "output_type": "stream",
          "text": [
            "{'a': 1, 'b': 2, 'c': 3, 'd': 4}\n"
          ],
          "name": "stdout"
        }
      ]
    },
    {
      "cell_type": "markdown",
      "metadata": {
        "id": "87bSc1f4i3Gc",
        "colab_type": "text"
      },
      "source": [
        "# **5.python program to find highest 3 values in dictionary**"
      ]
    },
    {
      "cell_type": "code",
      "metadata": {
        "id": "F1qO4hqSi9hM",
        "colab_type": "code",
        "colab": {
          "base_uri": "https://localhost:8080/",
          "height": 35
        },
        "outputId": "2388c691-e66a-4a18-a23b-edb05d0bb0f6"
      },
      "source": [
        "from heapq import nlargest\n",
        "a={'a':7889,'b':5332,'c':8645,'d':6778,'e':5789}\n",
        "b=nlargest(3,a,key=a.get)\n",
        "print(b)"
      ],
      "execution_count": 5,
      "outputs": [
        {
          "output_type": "stream",
          "text": [
            "['c', 'a', 'd']\n"
          ],
          "name": "stdout"
        }
      ]
    },
    {
      "cell_type": "markdown",
      "metadata": {
        "id": "MgLVlETcjVjp",
        "colab_type": "text"
      },
      "source": [
        "# **6.python program to convert tuple to a string**"
      ]
    },
    {
      "cell_type": "code",
      "metadata": {
        "id": "ibq5jUzVjfIA",
        "colab_type": "code",
        "colab": {
          "base_uri": "https://localhost:8080/",
          "height": 35
        },
        "outputId": "dd498ee7-56b8-4c37-d219-e07683ffb1b8"
      },
      "source": [
        "t=('c','r','i','c','k','e','t')\n",
        "s=''.join(t)\n",
        "print(s)"
      ],
      "execution_count": 4,
      "outputs": [
        {
          "output_type": "stream",
          "text": [
            "cricket\n"
          ],
          "name": "stdout"
        }
      ]
    },
    {
      "cell_type": "markdown",
      "metadata": {
        "id": "RAFXhtp1jmNR",
        "colab_type": "text"
      },
      "source": [
        "7.python program to reverse a tuple\n"
      ]
    },
    {
      "cell_type": "code",
      "metadata": {
        "id": "Xyxe7wGljuA1",
        "colab_type": "code",
        "colab": {
          "base_uri": "https://localhost:8080/",
          "height": 35
        },
        "outputId": "83fd32b0-3517-470b-d135-ff08174e6489"
      },
      "source": [
        "t=('c','r','i','c','k','e','t')\n",
        "list=list(t)\n",
        "list.reverse()\n",
        "print(tuple(list))\n"
      ],
      "execution_count": 3,
      "outputs": [
        {
          "output_type": "stream",
          "text": [
            "('t', 'e', 'k', 'c', 'i', 'r', 'c')\n"
          ],
          "name": "stdout"
        }
      ]
    },
    {
      "cell_type": "markdown",
      "metadata": {
        "id": "s6h31KuYjvR2",
        "colab_type": "text"
      },
      "source": [
        "## **8.python program to remove existing indentation from all of the lines in a given text**"
      ]
    },
    {
      "cell_type": "code",
      "metadata": {
        "id": "Dx9hhbt8j13K",
        "colab_type": "code",
        "colab": {
          "base_uri": "https://localhost:8080/",
          "height": 124
        },
        "outputId": "ae23dc9f-525b-4df3-b4a8-76685c3bc48d"
      },
      "source": [
        "\n",
        "import textwrap\n",
        "sample_text = '''\n",
        "    Python is a widely used high-level, general-purpose, interpreted,dynamic programming language. Its design philosophy emphasizes code readability, and its syntax allows programmers to express\n",
        "    concepts in fewer lines of code than possible in languages such as C++ or Java. '''\n",
        "text_without_Indentation = textwrap.dedent(sample_text)\n",
        "print()\n",
        "print(text_without_Indentation )\n",
        "print()\n"
      ],
      "execution_count": 2,
      "outputs": [
        {
          "output_type": "stream",
          "text": [
            "\n",
            "\n",
            "Python is a widely used high-level, general-purpose, interpreted,dynamic programming language. Its design philosophy emphasizes code readability, and its syntax allows programmers to express\n",
            "concepts in fewer lines of code than possible in languages such as C++ or Java. \n",
            "\n"
          ],
          "name": "stdout"
        }
      ]
    }
  ]
}