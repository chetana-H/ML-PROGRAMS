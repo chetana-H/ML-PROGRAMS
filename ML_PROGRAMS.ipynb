{
  "nbformat": 4,
  "nbformat_minor": 0,
  "metadata": {
    "colab": {
      "name": "ML PROGRAMS",
      "provenance": [],
      "authorship_tag": "ABX9TyMeuOYe8UOsaerUDGsS1RgI",
      "include_colab_link": true
    },
    "kernelspec": {
      "name": "python3",
      "display_name": "Python 3"
    }
  },
  "cells": [
    {
      "cell_type": "markdown",
      "metadata": {
        "id": "view-in-github",
        "colab_type": "text"
      },
      "source": [
        "<a href=\"https://colab.research.google.com/github/chetana-H/ML-PROGRAMS/blob/master/ML_PROGRAMS.ipynb\" target=\"_parent\"><img src=\"https://colab.research.google.com/assets/colab-badge.svg\" alt=\"Open In Colab\"/></a>"
      ]
    },
    {
      "cell_type": "markdown",
      "metadata": {
        "id": "UOx1r7Ed9ZCB",
        "colab_type": "text"
      },
      "source": [
        "# **1.Python program which accepts the user's 1st and last name and print them in reverse order with space.**"
      ]
    },
    {
      "cell_type": "code",
      "metadata": {
        "id": "M1wgNPzO8Mi7",
        "colab_type": "code",
        "colab": {
          "base_uri": "https://localhost:8080/",
          "height": 69
        },
        "outputId": "73a2719d-8da0-4cf5-dd02-252a5f36d7e1"
      },
      "source": [
        "a=str(input(\"Enter your first name:\")) \n",
        "b=str(input(\"Enter your last name:\")) \n",
        "print(b,a)"
      ],
      "execution_count": null,
      "outputs": [
        {
          "output_type": "stream",
          "text": [
            "Enter your first name:chetana \n",
            "Enter your last name:H\n",
            "H chetana \n"
          ],
          "name": "stdout"
        }
      ]
    },
    {
      "cell_type": "markdown",
      "metadata": {
        "id": "HPL2stI99mvc",
        "colab_type": "text"
      },
      "source": [
        "# **2.Python program to find number of days between two given dates.**"
      ]
    },
    {
      "cell_type": "code",
      "metadata": {
        "id": "la9OL-BU8jko",
        "colab_type": "code",
        "colab": {
          "base_uri": "https://localhost:8080/",
          "height": 35
        },
        "outputId": "2f68c981-5afa-4f5b-cd19-55a432bf6b02"
      },
      "source": [
        "from datetime import date\n",
        "f_date = date(2014, 7, 2)\n",
        "l_date = date(2016, 7, 11) \n",
        "delta = l_date - f_date \n",
        "print(delta.days)"
      ],
      "execution_count": null,
      "outputs": [
        {
          "output_type": "stream",
          "text": [
            "740\n"
          ],
          "name": "stdout"
        }
      ]
    },
    {
      "cell_type": "markdown",
      "metadata": {
        "id": "B2dClOHH9tPa",
        "colab_type": "text"
      },
      "source": [
        "# **3.Python program to test whether the passed letter is vowel.**"
      ]
    },
    {
      "cell_type": "code",
      "metadata": {
        "id": "RJuBtDWW8pxl",
        "colab_type": "code",
        "colab": {
          "base_uri": "https://localhost:8080/",
          "height": 52
        },
        "outputId": "b8be0dd6-51a6-4300-d134-02296a41bdff"
      },
      "source": [
        "a=str(input(\"Enter the letter\"))\n",
        "if a in ['a','e','i','o','u','A','E','I','O','U']:\n",
        "  print(\"Yes\",a,\"is a vowel\") \n",
        "else:\n",
        "  print(\"No\",a,\"is not a vowel\") "
      ],
      "execution_count": null,
      "outputs": [
        {
          "output_type": "stream",
          "text": [
            "Enter the letterE\n",
            "Yes E is a vowel\n"
          ],
          "name": "stdout"
        }
      ]
    },
    {
      "cell_type": "markdown",
      "metadata": {
        "id": "pfMZCWXc95PE",
        "colab_type": "text"
      },
      "source": [
        "# *4.Python program to sum three given integers.if two values are equal sum will be 0.*"
      ]
    },
    {
      "cell_type": "code",
      "metadata": {
        "id": "FeLb478L89sV",
        "colab_type": "code",
        "colab": {
          "base_uri": "https://localhost:8080/",
          "height": 87
        },
        "outputId": "f23b7cc3-cc4e-4a98-d483-a4d88fc1b450"
      },
      "source": [
        "a=int(input(\"Enter the 1st number:\"))\n",
        "b=int(input(\"Enter the 2nd number:\")) \n",
        "c=int(input(\"Enter the 3rd number:\")) \n",
        "if (a==b or a==c or b==c):\n",
        "  print(\"The sum is 0\") \n",
        "else:\n",
        "  print(\"The sum is\",a+b+c) "
      ],
      "execution_count": null,
      "outputs": [
        {
          "output_type": "stream",
          "text": [
            "Enter the 1st number:15\n",
            "Enter the 2nd number:22\n",
            "Enter the 3rd number:14\n",
            "The sum is 51\n"
          ],
          "name": "stdout"
        }
      ]
    },
    {
      "cell_type": "markdown",
      "metadata": {
        "id": "3oCn255x-rNR",
        "colab_type": "text"
      },
      "source": [
        "# **5.Python program to count number of characters in a string.**"
      ]
    },
    {
      "cell_type": "code",
      "metadata": {
        "id": "1prZny6-9Koa",
        "colab_type": "code",
        "colab": {
          "base_uri": "https://localhost:8080/",
          "height": 69
        },
        "outputId": "d08d5a37-c817-4e34-fcc1-4df88608f2b5"
      },
      "source": [
        "a = input(\"Enter the string :\")\n",
        "f = {} \n",
        "for i in a: \n",
        "    if i in f: \n",
        "        f[i] += 1\n",
        "    else: \n",
        "        f[i] = 1\n",
        "print (\"Count of all characters is :\\n \"+str(f))"
      ],
      "execution_count": null,
      "outputs": [
        {
          "output_type": "stream",
          "text": [
            "Enter the string :chetana\n",
            "Count of all characters is :\n",
            " {'c': 1, 'h': 1, 'e': 1, 't': 1, 'a': 2, 'n': 1}\n"
          ],
          "name": "stdout"
        }
      ]
    }
  ]
}